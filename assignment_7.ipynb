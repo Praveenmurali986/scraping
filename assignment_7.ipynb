{
 "cells": [
  {
   "cell_type": "markdown",
   "id": "6aaa964f",
   "metadata": {},
   "source": [
    "# question no -  1"
   ]
  },
  {
   "cell_type": "markdown",
   "id": "c09056de",
   "metadata": {},
   "source": [
    "What is the name of the feature responsible for generating Regex objects?\n",
    "\n",
    "-------------------------------------------------------------------------------------------\n",
    "\n",
    "answers:\n",
    "\n",
    "`re.compile()` generates Regex objects."
   ]
  },
  {
   "cell_type": "code",
   "execution_count": 2,
   "id": "8bb47bc2",
   "metadata": {},
   "outputs": [
    {
     "name": "stdout",
     "output_type": "stream",
     "text": [
      "['love']\n"
     ]
    }
   ],
   "source": [
    "import re\n",
    "pattern=re.compile('love')\n",
    "find=pattern.findall('i love ineuron')\n",
    "print(find)"
   ]
  },
  {
   "cell_type": "markdown",
   "id": "f34daeb0",
   "metadata": {},
   "source": [
    "# question no -  2"
   ]
  },
  {
   "cell_type": "markdown",
   "id": "bbc42e4c",
   "metadata": {},
   "source": [
    "Why do raw strings often appear in Regex objects?\n",
    "\n",
    "-------------------------------------------------------------------------------------------\n",
    "\n",
    "answers:\n",
    "\n",
    "Raw strings are used so that backslashes do not have to be escaped."
   ]
  },
  {
   "cell_type": "markdown",
   "id": "1645b529",
   "metadata": {},
   "source": [
    "# question no -  3"
   ]
  },
  {
   "cell_type": "markdown",
   "id": "0e3ccc66",
   "metadata": {},
   "source": [
    "What is the return value of the search() method?\n",
    "\n",
    "-------------------------------------------------------------------------------------------\n",
    "\n",
    "answers:\n",
    "\n",
    "if any pattern is observed then returns match object otherwise returns None."
   ]
  },
  {
   "cell_type": "markdown",
   "id": "7a0e2fa7",
   "metadata": {},
   "source": [
    "# question no -  4"
   ]
  },
  {
   "cell_type": "markdown",
   "id": "33618d4f",
   "metadata": {},
   "source": [
    "From a Match item, how do you get the actual strings that match the pattern?\n",
    "\n",
    "-------------------------------------------------------------------------------------------\n",
    "\n",
    "answers:\n",
    "\n",
    "`group() `is used to get the actual strings that match the pattern"
   ]
  },
  {
   "cell_type": "code",
   "execution_count": 6,
   "id": "ba6ca9f7",
   "metadata": {},
   "outputs": [
    {
     "name": "stdout",
     "output_type": "stream",
     "text": [
      "ron\n"
     ]
    }
   ],
   "source": [
    "import re\n",
    "find = re.search('ron','Ineuron')\n",
    "print(find.group())"
   ]
  },
  {
   "cell_type": "markdown",
   "id": "56cd5fda",
   "metadata": {},
   "source": [
    "# question no -  5"
   ]
  },
  {
   "cell_type": "markdown",
   "id": "6215dfdb",
   "metadata": {},
   "source": [
    " In the regex which created from the r'(\\d\\d\\d)-(\\d\\d\\d-\\d\\d\\d\\d)', what does group zero cover? Group 2? Group 1?\n",
    " \n",
    " -------------------------------------------------------------------------------------------\n",
    " \n",
    " answers:\n",
    " \n",
    "  In the Regex `r'(\\d\\d\\d)-(\\d\\d\\d-\\d\\d\\d\\d)'` the zero group covers the entire pattern match where as the first group cover `(\\d\\d\\d)` and the second group cover `(\\d\\d\\d-\\d\\d\\d\\d)`"
   ]
  },
  {
   "cell_type": "code",
   "execution_count": null,
   "id": "8022fe1a",
   "metadata": {},
   "outputs": [],
   "source": []
  },
  {
   "cell_type": "markdown",
   "id": "18268d3e",
   "metadata": {},
   "source": [
    "# question no -  6"
   ]
  },
  {
   "cell_type": "markdown",
   "id": "5346c1e9",
   "metadata": {},
   "source": [
    "In standard expression syntax, parentheses and intervals have distinct meanings. How can you tell a regex that you want it to fit real parentheses and periods?\n",
    "\n",
    "-------------------------------------------------------------------------------------------\n",
    "\n",
    "answers:\n",
    "\n",
    "The `\\.` `\\(` and` \\)` escape characters in the raw string passed to re.compile() will match actual parenthesis characters."
   ]
  },
  {
   "cell_type": "code",
   "execution_count": 10,
   "id": "3088c7e3",
   "metadata": {},
   "outputs": [
    {
     "name": "stdout",
     "output_type": "stream",
     "text": [
      "(987) 654-3210\n"
     ]
    }
   ],
   "source": [
    "import re\n",
    "ph = re.compile(r'(\\(\\d\\d\\d\\)) (\\d\\d\\d-\\d\\d\\d\\d)')\n",
    "find = ph.search('call me (987) 654-3210.')\n",
    "print(find.group())"
   ]
  },
  {
   "cell_type": "markdown",
   "id": "057e589a",
   "metadata": {},
   "source": [
    "# question no -  7"
   ]
  },
  {
   "cell_type": "markdown",
   "id": "70e533b5",
   "metadata": {},
   "source": [
    "The findall() method returns a string list or a list of string tuples. What causes it to return one of the two options?\n",
    "\n",
    "-------------------------------------------------------------------------------------------\n",
    "\n",
    "answers:\n",
    "\n",
    "if regex pattern has a group then it return list of tuple of strings and if regex pattern has no group then it returns a list of the string matched."
   ]
  },
  {
   "cell_type": "code",
   "execution_count": 12,
   "id": "44a0c624",
   "metadata": {},
   "outputs": [
    {
     "name": "stdout",
     "output_type": "stream",
     "text": [
      "[('(987)', '654-3210')]\n",
      "['987-654-3210']\n"
     ]
    }
   ],
   "source": [
    "\n",
    "import re\n",
    "ph= re.compile(r'(\\(\\d\\d\\d\\)) (\\d\\d\\d-\\d\\d\\d\\d)')\n",
    "find = ph.findall('call me (987) 654-3210.')\n",
    "print(find)\n",
    "\n",
    "\n",
    "ph1= re.compile(r'\\d{3}-\\d{3}-\\d{4}')\n",
    "find =ph1.findall('call me 987-654-3210.')\n",
    "print(find)"
   ]
  },
  {
   "cell_type": "markdown",
   "id": "8a281097",
   "metadata": {},
   "source": [
    "# question no -  8"
   ]
  },
  {
   "cell_type": "markdown",
   "id": "a1521b33",
   "metadata": {},
   "source": [
    " In standard expressions, what does the | character mean?\n",
    " \n",
    " -------------------------------------------------------------------------------------------\n",
    " \n",
    " answers:\n",
    " \n",
    " `OR` is represented by the `|` character"
   ]
  },
  {
   "cell_type": "markdown",
   "id": "e7a412b0",
   "metadata": {},
   "source": [
    "# question no -  9"
   ]
  },
  {
   "cell_type": "markdown",
   "id": "0130c664",
   "metadata": {},
   "source": [
    " In regular expressions, what does the ? character stand for?\n",
    " \n",
    " -------------------------------------------------------------------------------------------\n",
    " \n",
    " answers:\n",
    " \n",
    " `?` characters represents zero or one match of the preceeding group"
   ]
  },
  {
   "cell_type": "code",
   "execution_count": 14,
   "id": "48e0d5b7",
   "metadata": {},
   "outputs": [
    {
     "name": "stdout",
     "output_type": "stream",
     "text": [
      "<re.Match object; span=(7, 14), match='ineuron'>\n",
      "<re.Match object; span=(9, 16), match='1neuron'>\n"
     ]
    }
   ],
   "source": [
    "import re\n",
    "find= re.search(\"i(neu)?ron\",\"i love ineuron\")\n",
    "print(find)\n",
    "find1 = re.search(\"1n(eu)?ron\",\"i bought 1neuron\")\n",
    "print(find1)"
   ]
  },
  {
   "cell_type": "markdown",
   "id": "adfcfecb",
   "metadata": {},
   "source": [
    "# question no -  10"
   ]
  },
  {
   "cell_type": "markdown",
   "id": "835a3c45",
   "metadata": {},
   "source": [
    "In regular expressions, what is the difference between the + and * characters?\n",
    "\n",
    "-------------------------------------------------------------------------------------------\n",
    "\n",
    "answers:\n",
    "\n",
    "`*` Represents Zero ore more occurances of the preceeding group, whereas `+` represents one or more occurances of the preceeding group."
   ]
  },
  {
   "cell_type": "code",
   "execution_count": 20,
   "id": "bb6bcaf9",
   "metadata": {},
   "outputs": [
    {
     "name": "stdout",
     "output_type": "stream",
     "text": [
      "<re.Match object; span=(7, 14), match='ineuron'>\n",
      "None\n"
     ]
    }
   ],
   "source": [
    "import re\n",
    "find = re.search(\"i(neu)*ron\",\"i love ineuron\")\n",
    "print(find)\n",
    "find1 = re.search(\"1(neu)+ron\",\"i love ineuron\")\n",
    "print(find1)"
   ]
  },
  {
   "cell_type": "markdown",
   "id": "3972e238",
   "metadata": {},
   "source": [
    "# question no -  11"
   ]
  },
  {
   "cell_type": "markdown",
   "id": "7d5e5452",
   "metadata": {},
   "source": [
    "What is the difference between {4} and {4,5} in regular expression?\n",
    "\n",
    "-------------------------------------------------------------------------------------------\n",
    "\n",
    "answers:\n",
    "\n",
    "`{4}` means that its preceeding group should repeat 4 times. where as`{4,5}` means that its preceeding group should repeat mininum 4 times and maximum 5 times inclusively"
   ]
  },
  {
   "cell_type": "code",
   "execution_count": 21,
   "id": "5c3612d1",
   "metadata": {},
   "outputs": [
    {
     "name": "stdout",
     "output_type": "stream",
     "text": [
      "hellohellohello\n",
      "None\n"
     ]
    }
   ],
   "source": [
    "import re\n",
    "hello = re.compile(r'(hello){3}')\n",
    "find1 = hello.search('hellohellohello')\n",
    "find2 = hello.search('hello')\n",
    "print(find1.group())\n",
    "print(find2)"
   ]
  },
  {
   "cell_type": "markdown",
   "id": "06da984f",
   "metadata": {},
   "source": [
    "# question no -  12"
   ]
  },
  {
   "cell_type": "markdown",
   "id": "f4f0f98f",
   "metadata": {},
   "source": [
    "What do you mean by the \\d, \\w, and \\s shorthand character classes signify in regular expressions?\n",
    "\n",
    "-------------------------------------------------------------------------------------------\n",
    "\n",
    "answers:\n",
    "\n",
    "`\\d`  --> this represents 0-9\n",
    "\n",
    "`\\w`   --> this represents a-z,A-Z,0-9,_\n",
    "\n",
    "`\\s`    --> this represents  a space, a tab, a carriage return, a line feed, or a form feed"
   ]
  },
  {
   "cell_type": "markdown",
   "id": "e99b3d0d",
   "metadata": {},
   "source": [
    "# question no -  13"
   ]
  },
  {
   "cell_type": "markdown",
   "id": "3b0fec7d",
   "metadata": {},
   "source": [
    "What do means by \\D, \\W, and \\S shorthand character classes signify in regular expressions?\n",
    "\n",
    "-------------------------------------------------------------------------------------------\n",
    "\n",
    "answers:\n",
    "\n",
    " `\\W`   -->  This represents non-word characters [^A-Za-z0-9_]\n",
    "\n",
    "`\\D`    --> this represents non-digital characters[^0-9]\n",
    "\n",
    "`\\S`   --> this represents non-white space characters"
   ]
  },
  {
   "cell_type": "markdown",
   "id": "61f2155c",
   "metadata": {},
   "source": [
    "# question no -  14"
   ]
  },
  {
   "cell_type": "markdown",
   "id": "0e914776",
   "metadata": {},
   "source": [
    "What is the difference between `.*?` and `.*`?\n",
    "\n",
    "-------------------------------------------------------------------------------------------\n",
    "\n",
    "answers:\n",
    "\n",
    "while `.*? `returns the longest string that match `.* `returns the shortest string that match the conditions"
   ]
  },
  {
   "cell_type": "code",
   "execution_count": null,
   "id": "905cc06e",
   "metadata": {},
   "outputs": [],
   "source": []
  },
  {
   "cell_type": "markdown",
   "id": "1b751834",
   "metadata": {},
   "source": [
    "# question no -  15"
   ]
  },
  {
   "cell_type": "markdown",
   "id": "d114a2b9",
   "metadata": {},
   "source": [
    "What is the syntax for matching both numbers and lowercase letters with a character class?\n",
    "\n",
    "-------------------------------------------------------------------------------------------\n",
    "\n",
    "answers:\n",
    "\n",
    "The Synatax is Either `[a-z0-9]` or `[0-9a-z]`"
   ]
  },
  {
   "cell_type": "code",
   "execution_count": null,
   "id": "53550f5d",
   "metadata": {},
   "outputs": [],
   "source": []
  },
  {
   "cell_type": "markdown",
   "id": "4eae5705",
   "metadata": {},
   "source": [
    "# question no -  16"
   ]
  },
  {
   "cell_type": "markdown",
   "id": "2994679f",
   "metadata": {},
   "source": [
    "What is the procedure for making a normal expression in regax case insensitive?\n",
    "\n",
    "-------------------------------------------------------------------------------------------\n",
    "\n",
    "answers:\n",
    "\n",
    "by using re.IGNORECASE as flag we can make a normal expression in regex case insensitive"
   ]
  },
  {
   "cell_type": "markdown",
   "id": "e2d5a413",
   "metadata": {},
   "source": [
    "# question no -  17"
   ]
  },
  {
   "cell_type": "markdown",
   "id": "46667699",
   "metadata": {},
   "source": [
    "What does the . character normally match? What does it match if re.DOTALL is passed as 2nd argument in re.compile()?\n",
    "\n",
    "-------------------------------------------------------------------------------------------\n",
    "\n",
    "answers:\n",
    "\n",
    "Dot` .` character matches everything in input except newline character . By passing `re.DOTALL` as a flag to `re.compile()`, you can make the dot character match all characters, including the newline character."
   ]
  },
  {
   "cell_type": "markdown",
   "id": "d51d3685",
   "metadata": {},
   "source": [
    "# question no -  18"
   ]
  },
  {
   "cell_type": "markdown",
   "id": "af6691a5",
   "metadata": {},
   "source": [
    "If numReg = re.compile(r'\\d+'), what will numRegex.sub('X', '11 drummers, 10 pipers, five rings, 4 hen') return?\n",
    "\n",
    "-------------------------------------------------------------------------------------------\n",
    "\n",
    "answers:\n",
    "\n",
    " `'X drummers, X pipers, five rings, X hen'` will be the Ouput"
   ]
  },
  {
   "cell_type": "code",
   "execution_count": 2,
   "id": "81433bc4",
   "metadata": {},
   "outputs": [
    {
     "data": {
      "text/plain": [
       "'X drummers, X pipers, five rings, X hen'"
      ]
     },
     "execution_count": 2,
     "metadata": {},
     "output_type": "execute_result"
    }
   ],
   "source": [
    "import re\n",
    "numReg = re.compile(r'\\d+')\n",
    "numReg.sub('X', '11 drummers, 10 pipers, five rings, 4 hen')"
   ]
  },
  {
   "cell_type": "markdown",
   "id": "5348d6cf",
   "metadata": {},
   "source": [
    "# question no -  19"
   ]
  },
  {
   "cell_type": "markdown",
   "id": "60655885",
   "metadata": {},
   "source": [
    "What does passing re.VERBOSE as the 2nd argument to re.compile() allow to do?\n",
    "\n",
    "-------------------------------------------------------------------------------------------\n",
    "\n",
    "answers:\n",
    "\n",
    " `re.VERBOSE` flag allows you to write regular expressions that look nicer and are more readable by allowing you to visually separate logical sections of the pattern and add comments"
   ]
  },
  {
   "cell_type": "code",
   "execution_count": 7,
   "id": "77a1cc12",
   "metadata": {},
   "outputs": [
    {
     "name": "stdout",
     "output_type": "stream",
     "text": [
      "<re.Match object; span=(0, 19), match='praveen69@gmail.com'>\n"
     ]
    }
   ],
   "source": [
    "email=re.compile(r\"\"\"\n",
    "                           ^([a-z0-9_\\.-]+)                 # local Part\n",
    "                           @                             # single @ sign\n",
    "                            ([0-9a-z\\.-]+)                 # Domain name\n",
    "                           \\.                             # single Dot .\n",
    "                            ([a-z]{2,6})$                 # Top level Domain     \n",
    "                           \"\"\",re.VERBOSE | re.IGNORECASE)\n",
    "match=email.search('praveen69@gmail.com')\n",
    "print(match)\n"
   ]
  },
  {
   "cell_type": "markdown",
   "id": "6db01d7c",
   "metadata": {},
   "source": [
    "# question no -  20"
   ]
  },
  {
   "cell_type": "markdown",
   "id": "24a69565",
   "metadata": {},
   "source": [
    "How would you write a regex that match a number with comma for every three digits? It must match the given following:\n",
    "`'42'`,`'1,234'`, `'6,368,745'`but not the following: `'12,34,567'` (which has only two digits between the commas) `'1234'` (which lacks commas)\n",
    "\n",
    "-------------------------------------------------------------------------------------------\n",
    "\n"
   ]
  },
  {
   "cell_type": "code",
   "execution_count": 8,
   "id": "d8bbca7c",
   "metadata": {},
   "outputs": [
    {
     "name": "stdout",
     "output_type": "stream",
     "text": [
      "42    <re.Match object; span=(0, 2), match='42'>\n",
      "1,234    <re.Match object; span=(0, 5), match='1,234'>\n",
      "6,368,745    <re.Match object; span=(0, 9), match='6,368,745'>\n",
      "12,34,567    None\n",
      "1234    None\n"
     ]
    }
   ],
   "source": [
    "import re\n",
    "pattern = r'^\\d{1,3}(,\\d{3})*$'\n",
    "matches = re.compile(pattern)\n",
    "for i in ['42','1,234', '6,368,745','12,34,567','1234']:\n",
    "    print(i ,'  ', matches.search(i))"
   ]
  },
  {
   "cell_type": "markdown",
   "id": "af500700",
   "metadata": {},
   "source": [
    "# question no -  21"
   ]
  },
  {
   "cell_type": "markdown",
   "id": "e513191f",
   "metadata": {},
   "source": [
    "How would you write a regex that matches the full name of someone whose last name is Watanabe? You can assume that the first name that comes before it will always be one word that begins with a capital letter. The regex must match the following:\n",
    "\n",
    "`'Haruto Watanabe'`\n",
    "\n",
    "`'Alice Watanabe'`\n",
    "\n",
    "`'RoboCop Watanabe'`\n",
    "\n",
    "but not the following:\n",
    "\n",
    "`'haruto Watanabe'` (where the first name is not capitalized)\n",
    "\n",
    "`'Mr. Watanabe'` (where the preceding word has a nonletter character)\n",
    "\n",
    "`'Watanabe'` (which has no first name)\n",
    "\n",
    "`'Haruto watanabe'` (where Watanabe is not capitalized)\n",
    "\n",
    "-------------------------------------------------------------------------------------------\n",
    "\n"
   ]
  },
  {
   "cell_type": "code",
   "execution_count": 9,
   "id": "32081d33",
   "metadata": {},
   "outputs": [
    {
     "name": "stdout",
     "output_type": "stream",
     "text": [
      "Haruto Watanabe     <re.Match object; span=(0, 15), match='Haruto Watanabe'>\n",
      "Alice Watanabe     <re.Match object; span=(0, 14), match='Alice Watanabe'>\n",
      "RoboCop Watanabe     <re.Match object; span=(4, 16), match='Cop Watanabe'>\n",
      "haruto Watanabe     None\n",
      "Mr. Watanabe     None\n",
      "Watanabe     None\n",
      "Haruto watanabe     None\n"
     ]
    }
   ],
   "source": [
    "import re\n",
    "pattern = r'[A-Z]{1}[a-z]*\\sWatanabe'\n",
    "names = re.compile(pattern)\n",
    "for name in ['Haruto Watanabe','Alice Watanabe','RoboCop Watanabe','haruto Watanabe','Mr. Watanabe','Watanabe','Haruto watanabe']:\n",
    "    print(name,'   ',names.search(name))"
   ]
  },
  {
   "cell_type": "markdown",
   "id": "cf742fba",
   "metadata": {},
   "source": [
    "# question no -  22"
   ]
  },
  {
   "cell_type": "markdown",
   "id": "c20e6aed",
   "metadata": {},
   "source": [
    "How would you write a regex that matches a sentence where the first word is either Alice, Bob,or Carol; the second word is either eats, pets, or throws; the third word is apples, cats, or baseballs; and the sentence ends with a period? This regex should be case-insensitive. It must match the following:\n",
    "\n",
    "`'Alice eats apples.'`\n",
    "\n",
    "`'Bob pets cats.'`\n",
    "\n",
    "`'Carol throws baseballs.'`\n",
    "\n",
    "`'Alice throws Apples.'`\n",
    "\n",
    "`'BOB EATS CATS.'`\n",
    "\n",
    "but not the following:\n",
    "\n",
    "`'RoboCop eats apples.'`\n",
    "\n",
    "`'ALICE THROWS FOOTBALLS.'`\n",
    "\n",
    "`'Carol eats 7 cats.'`\n",
    "\n",
    "-------------------------------------------------------------------------------------------"
   ]
  },
  {
   "cell_type": "code",
   "execution_count": 12,
   "id": "bbbd6c28",
   "metadata": {},
   "outputs": [
    {
     "name": "stdout",
     "output_type": "stream",
     "text": [
      "Alice eats apples.           <re.Match object; span=(0, 18), match='Alice eats apples.'>\n",
      "Bob pets cats.           <re.Match object; span=(0, 14), match='Bob pets cats.'>\n",
      "Carol throws baseballs.           <re.Match object; span=(0, 23), match='Carol throws baseballs.'>\n",
      "Alice throws Apples.           <re.Match object; span=(0, 20), match='Alice throws Apples.'>\n",
      "BOB EATS CATS.           <re.Match object; span=(0, 14), match='BOB EATS CATS.'>\n",
      "RoboCop eats apples.           None\n",
      "ALICE THROWS FOOTBALLS.           None\n",
      "Carol eats 7 cats.           None\n"
     ]
    }
   ],
   "source": [
    "import re\n",
    "pattern = re.compile(r'(Alice|Bob|Carol)\\s(eats|pets|throws)\\s(apples|cats|baseballs)\\.',re.IGNORECASE)\n",
    "for i in ['Alice eats apples.','Bob pets cats.','Carol throws baseballs.','Alice throws Apples.','BOB EATS CATS.','RoboCop eats apples.'\n",
    ",'ALICE THROWS FOOTBALLS.','Carol eats 7 cats.']:\n",
    "    print(i,'         ',pattern.search(i))"
   ]
  },
  {
   "cell_type": "code",
   "execution_count": null,
   "id": "278f7aca",
   "metadata": {},
   "outputs": [],
   "source": []
  }
 ],
 "metadata": {
  "kernelspec": {
   "display_name": "Python 3",
   "language": "python",
   "name": "python3"
  },
  "language_info": {
   "codemirror_mode": {
    "name": "ipython",
    "version": 3
   },
   "file_extension": ".py",
   "mimetype": "text/x-python",
   "name": "python",
   "nbconvert_exporter": "python",
   "pygments_lexer": "ipython3",
   "version": "3.8.8"
  }
 },
 "nbformat": 4,
 "nbformat_minor": 5
}
